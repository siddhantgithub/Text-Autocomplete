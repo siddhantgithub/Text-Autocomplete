{
 "cells": [
  {
   "cell_type": "markdown",
   "id": "89fd7539",
   "metadata": {},
   "source": [
    "## Amazon Product Autocomplete\n",
    "\n",
    "This notebook provides a solution for providing product recommendations based on the search query from a user. The notebook implements two approachs:\n",
    "\n",
    "- Keyword based search using TheFuzz\n",
    "- Semantic search using sentence-transformers and Faiss\n",
    "\n",
    "The steps implemented in this notebook are:\n",
    "\n",
    "- Data loading and basic analysis\n",
    "- Data cleaning\n",
    "- Data preprocessing\n",
    "- Search implementation\n",
    "- Testing\n",
    "\n",
    "For testing, we have considered three strings,\n",
    "\n",
    "- \"Fire TV\" straightforward keyword based search\n",
    "- \"A birthday gift for kids party\" for semantic based search\n",
    "- \"Dire tablet\" for misspelling text search\n",
    "\n",
    "Further improvements needed:\n",
    "\n",
    "- Optimize search\n",
    "- Semantic search needs improvement. Currently, it is done only on product names (extracted from the data); ideally it should be done on all names\n",
    "- More comprehensive testing"
   ]
  },
  {
   "cell_type": "markdown",
   "id": "884edba4",
   "metadata": {},
   "source": [
    "<p><span style=\"font-size:18px\"><span style=\"background-color:#f1c40f\">&nbsp;<span style=\"color:#ffffff\"><strong>Data Loading and Basic Analysis</strong></span>&nbsp;</span></span></p>\n",
    "\n",
    "Steps Taken:\n",
    "\n",
    "- Load the datasource\n",
    "- Check size\n",
    "- Look at top entries\n",
    "- Check if any null values"
   ]
  },
  {
   "cell_type": "code",
   "execution_count": 37,
   "id": "51637940",
   "metadata": {
    "scrolled": false
   },
   "outputs": [],
   "source": [
    "import pandas as pd\n",
    "import numpy as np"
   ]
  },
  {
   "cell_type": "code",
   "execution_count": 2,
   "id": "9b390af8",
   "metadata": {},
   "outputs": [],
   "source": [
    "df = pd.read_csv(\"product_names.csv\")\n",
    "df.head(5)\n",
    "pd.options.display.max_colwidth = 300"
   ]
  },
  {
   "cell_type": "code",
   "execution_count": 3,
   "id": "11b4fa6e",
   "metadata": {},
   "outputs": [
    {
     "data": {
      "text/plain": [
       "(2397876, 1)"
      ]
     },
     "execution_count": 3,
     "metadata": {},
     "output_type": "execute_result"
    }
   ],
   "source": [
    "df.shape"
   ]
  },
  {
   "cell_type": "code",
   "execution_count": 4,
   "id": "c963ef31",
   "metadata": {
    "scrolled": false
   },
   "outputs": [
    {
     "data": {
      "text/html": [
       "<div>\n",
       "<style scoped>\n",
       "    .dataframe tbody tr th:only-of-type {\n",
       "        vertical-align: middle;\n",
       "    }\n",
       "\n",
       "    .dataframe tbody tr th {\n",
       "        vertical-align: top;\n",
       "    }\n",
       "\n",
       "    .dataframe thead th {\n",
       "        text-align: right;\n",
       "    }\n",
       "</style>\n",
       "<table border=\"1\" class=\"dataframe\">\n",
       "  <thead>\n",
       "    <tr style=\"text-align: right;\">\n",
       "      <th></th>\n",
       "      <th>Product Name</th>\n",
       "    </tr>\n",
       "  </thead>\n",
       "  <tbody>\n",
       "    <tr>\n",
       "      <th>0</th>\n",
       "      <td>All-New Fire HD 8 Tablet, 8 HD Display, Wi-Fi, 16 GB - Includes Special Offers, Magenta</td>\n",
       "    </tr>\n",
       "    <tr>\n",
       "      <th>1</th>\n",
       "      <td>Kindle Oasis E-reader with Leather Charging Cover - Merlot, 6 High-Resolution Display (300 ppi), Wi-Fi - Includes Special Offers,,</td>\n",
       "    </tr>\n",
       "    <tr>\n",
       "      <th>2</th>\n",
       "      <td>Amazon Kindle Lighted Leather Cover,,,\\r\\nAmazon Kindle Lighted Leather Cover,,,</td>\n",
       "    </tr>\n",
       "    <tr>\n",
       "      <th>3</th>\n",
       "      <td>Amazon Kindle Lighted Leather Cover,,,\\r\\nKindle Keyboard,,,</td>\n",
       "    </tr>\n",
       "    <tr>\n",
       "      <th>4</th>\n",
       "      <td>Kindle Keyboard,,,\\r\\nKindle Keyboard,,,</td>\n",
       "    </tr>\n",
       "    <tr>\n",
       "      <th>...</th>\n",
       "      <td>...</td>\n",
       "    </tr>\n",
       "    <tr>\n",
       "      <th>2397866</th>\n",
       "      <td>Premium Cotton Towels, Stripe</td>\n",
       "    </tr>\n",
       "    <tr>\n",
       "      <th>2397867</th>\n",
       "      <td>Organic Textured Cotton Towel</td>\n",
       "    </tr>\n",
       "    <tr>\n",
       "      <th>2397868</th>\n",
       "      <td>Premium Cotton Towels</td>\n",
       "    </tr>\n",
       "    <tr>\n",
       "      <th>2397869</th>\n",
       "      <td>L.L.Bean Egyptian Cotton Towels, Stripe</td>\n",
       "    </tr>\n",
       "    <tr>\n",
       "      <th>2397870</th>\n",
       "      <td>Organic Textured Cotton Towel Set</td>\n",
       "    </tr>\n",
       "  </tbody>\n",
       "</table>\n",
       "<p>2397871 rows × 1 columns</p>\n",
       "</div>"
      ],
      "text/plain": [
       "                                                                                                                               Product Name\n",
       "0                                                   All-New Fire HD 8 Tablet, 8 HD Display, Wi-Fi, 16 GB - Includes Special Offers, Magenta\n",
       "1        Kindle Oasis E-reader with Leather Charging Cover - Merlot, 6 High-Resolution Display (300 ppi), Wi-Fi - Includes Special Offers,,\n",
       "2                                                          Amazon Kindle Lighted Leather Cover,,,\\r\\nAmazon Kindle Lighted Leather Cover,,,\n",
       "3                                                                              Amazon Kindle Lighted Leather Cover,,,\\r\\nKindle Keyboard,,,\n",
       "4                                                                                                  Kindle Keyboard,,,\\r\\nKindle Keyboard,,,\n",
       "...                                                                                                                                     ...\n",
       "2397866                                                                                                       Premium Cotton Towels, Stripe\n",
       "2397867                                                                                                       Organic Textured Cotton Towel\n",
       "2397868                                                                                                               Premium Cotton Towels\n",
       "2397869                                                                                             L.L.Bean Egyptian Cotton Towels, Stripe\n",
       "2397870                                                                                                   Organic Textured Cotton Towel Set\n",
       "\n",
       "[2397871 rows x 1 columns]"
      ]
     },
     "execution_count": 4,
     "metadata": {},
     "output_type": "execute_result"
    }
   ],
   "source": [
    "df.head(-5)"
   ]
  },
  {
   "cell_type": "code",
   "execution_count": 5,
   "id": "18dc6770",
   "metadata": {},
   "outputs": [
    {
     "data": {
      "text/plain": [
       "0"
      ]
     },
     "execution_count": 5,
     "metadata": {},
     "output_type": "execute_result"
    }
   ],
   "source": [
    "df['Product Name'].isna().sum()"
   ]
  },
  {
   "cell_type": "markdown",
   "id": "cf3d2a3f",
   "metadata": {},
   "source": [
    "<p><span style=\"font-size:18px\"><span style=\"background-color:#f1c40f\">&nbsp;<span style=\"color:#ffffff\"><strong>Data Cleaning</strong></span>&nbsp;</span></span></p>\n",
    "\n",
    "Steps Taken:\n",
    "\n",
    "- Remove \\r\\n\n",
    "- Split by ',' as the data suggest entries are separated by comma values\n",
    "- Remove values after split that are blank\n",
    "- Check if any null values"
   ]
  },
  {
   "cell_type": "code",
   "execution_count": 6,
   "id": "6dfc0694",
   "metadata": {},
   "outputs": [],
   "source": [
    "df_cleaned = df['Product Name'].str.replace(\"\\r\\n\", \"\").str.split(\",\")"
   ]
  },
  {
   "cell_type": "code",
   "execution_count": 7,
   "id": "72c777b0",
   "metadata": {},
   "outputs": [],
   "source": [
    "df_empty_removed = df_cleaned.apply(lambda row: list(filter (None, row)))"
   ]
  },
  {
   "cell_type": "code",
   "execution_count": 8,
   "id": "4c7f91bc",
   "metadata": {
    "scrolled": true
   },
   "outputs": [
    {
     "data": {
      "text/plain": [
       "0                                           [All-New Fire HD 8 Tablet,  8 HD Display,  Wi-Fi,  16 GB - Includes Special Offers,  Magenta]\n",
       "1    [Kindle Oasis E-reader with Leather Charging Cover - Merlot,  6 High-Resolution Display (300 ppi),  Wi-Fi - Includes Special Offers]\n",
       "2                                                              [Amazon Kindle Lighted Leather Cover, Amazon Kindle Lighted Leather Cover]\n",
       "3                                                                                  [Amazon Kindle Lighted Leather Cover, Kindle Keyboard]\n",
       "4                                                                                                      [Kindle Keyboard, Kindle Keyboard]\n",
       "Name: Product Name, dtype: object"
      ]
     },
     "execution_count": 8,
     "metadata": {},
     "output_type": "execute_result"
    }
   ],
   "source": [
    "df_empty_removed.head(5)"
   ]
  },
  {
   "cell_type": "markdown",
   "id": "72c9806e",
   "metadata": {},
   "source": [
    "<p><span style=\"font-size:18px\"><span style=\"background-color:#f1c40f\">&nbsp;<span style=\"color:#ffffff\"><strong>Data Preprocessing</strong></span>&nbsp;</span></span></p>\n",
    "\n",
    "Steps Taken:\n",
    "\n",
    "- Get product name from the first value in the in the split list. We are getting product name for faster searches\n",
    "- Get description from the rest of the values in the list\n",
    "- \n",
    "- Check if any null values"
   ]
  },
  {
   "cell_type": "code",
   "execution_count": 9,
   "id": "4ec17680",
   "metadata": {},
   "outputs": [],
   "source": [
    "all_product_names = df_empty_removed.apply(lambda x: x[0])"
   ]
  },
  {
   "cell_type": "code",
   "execution_count": 10,
   "id": "5b7fbd6e",
   "metadata": {},
   "outputs": [],
   "source": [
    "all_product_description = df_empty_removed.apply(lambda x: x[1:])"
   ]
  },
  {
   "cell_type": "code",
   "execution_count": 11,
   "id": "5bbf86f3",
   "metadata": {},
   "outputs": [],
   "source": [
    "df_product_name = pd.DataFrame({'Product Name':all_product_names, 'Description':all_product_description})"
   ]
  },
  {
   "cell_type": "code",
   "execution_count": 12,
   "id": "16ea58fe",
   "metadata": {},
   "outputs": [],
   "source": [
    "df_product_name['Description'] = df_product_name['Description'].apply(lambda row: ' '.join(row))"
   ]
  },
  {
   "cell_type": "code",
   "execution_count": 13,
   "id": "cbe910b2",
   "metadata": {},
   "outputs": [],
   "source": [
    "df_product_name.loc[df_product_name ['Product Name'] == df_product_name ['Description'], \"Description\"] = \"\""
   ]
  },
  {
   "cell_type": "code",
   "execution_count": 14,
   "id": "1cff43ee",
   "metadata": {
    "scrolled": true
   },
   "outputs": [
    {
     "data": {
      "text/html": [
       "<div>\n",
       "<style scoped>\n",
       "    .dataframe tbody tr th:only-of-type {\n",
       "        vertical-align: middle;\n",
       "    }\n",
       "\n",
       "    .dataframe tbody tr th {\n",
       "        vertical-align: top;\n",
       "    }\n",
       "\n",
       "    .dataframe thead th {\n",
       "        text-align: right;\n",
       "    }\n",
       "</style>\n",
       "<table border=\"1\" class=\"dataframe\">\n",
       "  <thead>\n",
       "    <tr style=\"text-align: right;\">\n",
       "      <th></th>\n",
       "      <th>Product Name</th>\n",
       "      <th>Description</th>\n",
       "    </tr>\n",
       "  </thead>\n",
       "  <tbody>\n",
       "    <tr>\n",
       "      <th>0</th>\n",
       "      <td>All-New Fire HD 8 Tablet</td>\n",
       "      <td>8 HD Display  Wi-Fi  16 GB - Includes Special Offers  Magenta</td>\n",
       "    </tr>\n",
       "    <tr>\n",
       "      <th>1</th>\n",
       "      <td>Kindle Oasis E-reader with Leather Charging Cover - Merlot</td>\n",
       "      <td>6 High-Resolution Display (300 ppi)  Wi-Fi - Includes Special Offers</td>\n",
       "    </tr>\n",
       "    <tr>\n",
       "      <th>2</th>\n",
       "      <td>Amazon Kindle Lighted Leather Cover</td>\n",
       "      <td></td>\n",
       "    </tr>\n",
       "    <tr>\n",
       "      <th>3</th>\n",
       "      <td>Amazon Kindle Lighted Leather Cover</td>\n",
       "      <td>Kindle Keyboard</td>\n",
       "    </tr>\n",
       "    <tr>\n",
       "      <th>4</th>\n",
       "      <td>Kindle Keyboard</td>\n",
       "      <td></td>\n",
       "    </tr>\n",
       "  </tbody>\n",
       "</table>\n",
       "</div>"
      ],
      "text/plain": [
       "                                                 Product Name  \\\n",
       "0                                    All-New Fire HD 8 Tablet   \n",
       "1  Kindle Oasis E-reader with Leather Charging Cover - Merlot   \n",
       "2                         Amazon Kindle Lighted Leather Cover   \n",
       "3                         Amazon Kindle Lighted Leather Cover   \n",
       "4                                             Kindle Keyboard   \n",
       "\n",
       "                                                             Description  \n",
       "0          8 HD Display  Wi-Fi  16 GB - Includes Special Offers  Magenta  \n",
       "1   6 High-Resolution Display (300 ppi)  Wi-Fi - Includes Special Offers  \n",
       "2                                                                         \n",
       "3                                                        Kindle Keyboard  \n",
       "4                                                                         "
      ]
     },
     "execution_count": 14,
     "metadata": {},
     "output_type": "execute_result"
    }
   ],
   "source": [
    "df_product_name.head(5)"
   ]
  },
  {
   "cell_type": "code",
   "execution_count": 15,
   "id": "939cb750",
   "metadata": {},
   "outputs": [],
   "source": [
    "df_product_name_unique = df_product_name.drop_duplicates()"
   ]
  },
  {
   "cell_type": "code",
   "execution_count": 16,
   "id": "16b59bf1",
   "metadata": {
    "scrolled": true
   },
   "outputs": [
    {
     "name": "stderr",
     "output_type": "stream",
     "text": [
      "C:\\Users\\dikshashukla\\AppData\\Local\\Temp\\ipykernel_34860\\1213310168.py:1: SettingWithCopyWarning: \n",
      "A value is trying to be set on a copy of a slice from a DataFrame.\n",
      "Try using .loc[row_indexer,col_indexer] = value instead\n",
      "\n",
      "See the caveats in the documentation: https://pandas.pydata.org/pandas-docs/stable/user_guide/indexing.html#returning-a-view-versus-a-copy\n",
      "  df_product_name_unique.loc[:,'Product Name Orig'] = df_product_name_unique['Product Name'] + \" \" + df_product_name_unique['Description']\n"
     ]
    }
   ],
   "source": [
    "df_product_name_unique.loc[:,'Product Name Orig'] = df_product_name_unique['Product Name'] + \" \" + df_product_name_unique['Description']"
   ]
  },
  {
   "cell_type": "code",
   "execution_count": 17,
   "id": "2f64c732",
   "metadata": {
    "scrolled": false
   },
   "outputs": [],
   "source": [
    "df_product_name_unique.loc[:,'Product Name'] = df_product_name_unique['Product Name'].str.lower()"
   ]
  },
  {
   "cell_type": "code",
   "execution_count": 18,
   "id": "f8c35477",
   "metadata": {
    "scrolled": true
   },
   "outputs": [
    {
     "data": {
      "text/html": [
       "<div>\n",
       "<style scoped>\n",
       "    .dataframe tbody tr th:only-of-type {\n",
       "        vertical-align: middle;\n",
       "    }\n",
       "\n",
       "    .dataframe tbody tr th {\n",
       "        vertical-align: top;\n",
       "    }\n",
       "\n",
       "    .dataframe thead th {\n",
       "        text-align: right;\n",
       "    }\n",
       "</style>\n",
       "<table border=\"1\" class=\"dataframe\">\n",
       "  <thead>\n",
       "    <tr style=\"text-align: right;\">\n",
       "      <th></th>\n",
       "      <th>Product Name</th>\n",
       "      <th>Description</th>\n",
       "      <th>Product Name Orig</th>\n",
       "    </tr>\n",
       "  </thead>\n",
       "  <tbody>\n",
       "    <tr>\n",
       "      <th>0</th>\n",
       "      <td>all-new fire hd 8 tablet</td>\n",
       "      <td>8 HD Display  Wi-Fi  16 GB - Includes Special Offers  Magenta</td>\n",
       "      <td>All-New Fire HD 8 Tablet  8 HD Display  Wi-Fi  16 GB - Includes Special Offers  Magenta</td>\n",
       "    </tr>\n",
       "    <tr>\n",
       "      <th>1</th>\n",
       "      <td>kindle oasis e-reader with leather charging cover - merlot</td>\n",
       "      <td>6 High-Resolution Display (300 ppi)  Wi-Fi - Includes Special Offers</td>\n",
       "      <td>Kindle Oasis E-reader with Leather Charging Cover - Merlot  6 High-Resolution Display (300 ppi)  Wi-Fi - Includes Special Offers</td>\n",
       "    </tr>\n",
       "    <tr>\n",
       "      <th>2</th>\n",
       "      <td>amazon kindle lighted leather cover</td>\n",
       "      <td></td>\n",
       "      <td>Amazon Kindle Lighted Leather Cover</td>\n",
       "    </tr>\n",
       "    <tr>\n",
       "      <th>3</th>\n",
       "      <td>amazon kindle lighted leather cover</td>\n",
       "      <td>Kindle Keyboard</td>\n",
       "      <td>Amazon Kindle Lighted Leather Cover Kindle Keyboard</td>\n",
       "    </tr>\n",
       "    <tr>\n",
       "      <th>4</th>\n",
       "      <td>kindle keyboard</td>\n",
       "      <td></td>\n",
       "      <td>Kindle Keyboard</td>\n",
       "    </tr>\n",
       "  </tbody>\n",
       "</table>\n",
       "</div>"
      ],
      "text/plain": [
       "                                                 Product Name  \\\n",
       "0                                    all-new fire hd 8 tablet   \n",
       "1  kindle oasis e-reader with leather charging cover - merlot   \n",
       "2                         amazon kindle lighted leather cover   \n",
       "3                         amazon kindle lighted leather cover   \n",
       "4                                             kindle keyboard   \n",
       "\n",
       "                                                             Description  \\\n",
       "0          8 HD Display  Wi-Fi  16 GB - Includes Special Offers  Magenta   \n",
       "1   6 High-Resolution Display (300 ppi)  Wi-Fi - Includes Special Offers   \n",
       "2                                                                          \n",
       "3                                                        Kindle Keyboard   \n",
       "4                                                                          \n",
       "\n",
       "                                                                                                                  Product Name Orig  \n",
       "0                                           All-New Fire HD 8 Tablet  8 HD Display  Wi-Fi  16 GB - Includes Special Offers  Magenta  \n",
       "1  Kindle Oasis E-reader with Leather Charging Cover - Merlot  6 High-Resolution Display (300 ppi)  Wi-Fi - Includes Special Offers  \n",
       "2                                                                                              Amazon Kindle Lighted Leather Cover   \n",
       "3                                                                               Amazon Kindle Lighted Leather Cover Kindle Keyboard  \n",
       "4                                                                                                                  Kindle Keyboard   "
      ]
     },
     "execution_count": 18,
     "metadata": {},
     "output_type": "execute_result"
    }
   ],
   "source": [
    "df_product_name_unique.head(5)"
   ]
  },
  {
   "cell_type": "code",
   "execution_count": 20,
   "id": "2aa9dc70",
   "metadata": {
    "scrolled": false
   },
   "outputs": [
    {
     "name": "stderr",
     "output_type": "stream",
     "text": [
      "[nltk_data] Downloading package punkt to\n",
      "[nltk_data]     C:\\Users\\dikshashukla\\AppData\\Roaming\\nltk_data...\n",
      "[nltk_data]   Package punkt is already up-to-date!\n",
      "[nltk_data] Downloading package stopwords to\n",
      "[nltk_data]     C:\\Users\\dikshashukla\\AppData\\Roaming\\nltk_data...\n",
      "[nltk_data]   Package stopwords is already up-to-date!\n"
     ]
    }
   ],
   "source": [
    "import nltk\n",
    "nltk.download('punkt')\n",
    "import nltk\n",
    "from nltk.corpus import stopwords\n",
    "nltk.download('stopwords')\n",
    "from sklearn.feature_extraction.text import CountVectorizer\n",
    "from nltk.corpus import stopwords\n",
    "from nltk.tokenize import word_tokenize\n",
    "def remove_stop_words (line):\n",
    "    tokens = word_tokenize(line)\n",
    "    new_filtered_tokens = [word for word in tokens if word not in stopwords.words('english')]\n",
    "    return \" \".join(new_filtered_tokens)"
   ]
  },
  {
   "cell_type": "code",
   "execution_count": 64,
   "id": "7a8993d9",
   "metadata": {},
   "outputs": [
    {
     "data": {
      "application/vnd.jupyter.widget-view+json": {
       "model_id": "3749ccb46ad74e65a72f6c31f30017ed",
       "version_major": 2,
       "version_minor": 0
      },
      "text/plain": [
       "Pandas Apply:   0%|          | 0/2397438 [00:00<?, ?it/s]"
      ]
     },
     "metadata": {},
     "output_type": "display_data"
    },
    {
     "name": "stdout",
     "output_type": "stream",
     "text": [
      "--- 4989.166684150696 seconds ---\n"
     ]
    },
    {
     "name": "stderr",
     "output_type": "stream",
     "text": [
      "C:\\Users\\dikshashukla\\AppData\\Local\\Temp\\ipykernel_34860\\2847144861.py:4: SettingWithCopyWarning: \n",
      "A value is trying to be set on a copy of a slice from a DataFrame.\n",
      "Try using .loc[row_indexer,col_indexer] = value instead\n",
      "\n",
      "See the caveats in the documentation: https://pandas.pydata.org/pandas-docs/stable/user_guide/indexing.html#returning-a-view-versus-a-copy\n",
      "  df_product_name_unique.loc[:,'Product Name_sw_rm'] = df_product_name_unique['Product Name'].swifter.apply(lambda x: \" \".join([k for k in x.split(\" \") if k not in stopwords.words('english') ]))\n"
     ]
    }
   ],
   "source": [
    "import time\n",
    "import swifter\n",
    "start_time = time.time()\n",
    "df_product_name_unique.loc[:,'Product Name_sw_rm'] = df_product_name_unique['Product Name'].swifter.apply(lambda x: \" \".join([k for k in x.split(\" \") if k not in stopwords.words('english') ]))\n",
    "print(\"--- %s seconds ---\" % (time.time() - start_time))"
   ]
  },
  {
   "cell_type": "code",
   "execution_count": 65,
   "id": "dc3a8cd4",
   "metadata": {},
   "outputs": [],
   "source": [
    "df_product_name_unique.to_csv('product_details_processed.csv', index=False)"
   ]
  },
  {
   "cell_type": "code",
   "execution_count": 67,
   "id": "de5b6f66",
   "metadata": {
    "scrolled": false
   },
   "outputs": [
    {
     "data": {
      "text/html": [
       "<div>\n",
       "<style scoped>\n",
       "    .dataframe tbody tr th:only-of-type {\n",
       "        vertical-align: middle;\n",
       "    }\n",
       "\n",
       "    .dataframe tbody tr th {\n",
       "        vertical-align: top;\n",
       "    }\n",
       "\n",
       "    .dataframe thead th {\n",
       "        text-align: right;\n",
       "    }\n",
       "</style>\n",
       "<table border=\"1\" class=\"dataframe\">\n",
       "  <thead>\n",
       "    <tr style=\"text-align: right;\">\n",
       "      <th></th>\n",
       "      <th>Product Name</th>\n",
       "      <th>Description</th>\n",
       "      <th>Product Name Orig</th>\n",
       "      <th>Product Name_sw_rm</th>\n",
       "    </tr>\n",
       "  </thead>\n",
       "  <tbody>\n",
       "    <tr>\n",
       "      <th>0</th>\n",
       "      <td>all-new fire hd 8 tablet</td>\n",
       "      <td>8 HD Display  Wi-Fi  16 GB - Includes Special Offers  Magenta</td>\n",
       "      <td>All-New Fire HD 8 Tablet  8 HD Display  Wi-Fi  16 GB - Includes Special Offers  Magenta</td>\n",
       "      <td>all-new fire hd 8 tablet</td>\n",
       "    </tr>\n",
       "    <tr>\n",
       "      <th>1</th>\n",
       "      <td>kindle oasis e-reader with leather charging cover - merlot</td>\n",
       "      <td>6 High-Resolution Display (300 ppi)  Wi-Fi - Includes Special Offers</td>\n",
       "      <td>Kindle Oasis E-reader with Leather Charging Cover - Merlot  6 High-Resolution Display (300 ppi)  Wi-Fi - Includes Special Offers</td>\n",
       "      <td>kindle oasis e-reader leather charging cover - merlot</td>\n",
       "    </tr>\n",
       "    <tr>\n",
       "      <th>2</th>\n",
       "      <td>amazon kindle lighted leather cover</td>\n",
       "      <td></td>\n",
       "      <td>Amazon Kindle Lighted Leather Cover</td>\n",
       "      <td>amazon kindle lighted leather cover</td>\n",
       "    </tr>\n",
       "    <tr>\n",
       "      <th>3</th>\n",
       "      <td>amazon kindle lighted leather cover</td>\n",
       "      <td>Kindle Keyboard</td>\n",
       "      <td>Amazon Kindle Lighted Leather Cover Kindle Keyboard</td>\n",
       "      <td>amazon kindle lighted leather cover</td>\n",
       "    </tr>\n",
       "    <tr>\n",
       "      <th>4</th>\n",
       "      <td>kindle keyboard</td>\n",
       "      <td></td>\n",
       "      <td>Kindle Keyboard</td>\n",
       "      <td>kindle keyboard</td>\n",
       "    </tr>\n",
       "  </tbody>\n",
       "</table>\n",
       "</div>"
      ],
      "text/plain": [
       "                                                 Product Name  \\\n",
       "0                                    all-new fire hd 8 tablet   \n",
       "1  kindle oasis e-reader with leather charging cover - merlot   \n",
       "2                         amazon kindle lighted leather cover   \n",
       "3                         amazon kindle lighted leather cover   \n",
       "4                                             kindle keyboard   \n",
       "\n",
       "                                                             Description  \\\n",
       "0          8 HD Display  Wi-Fi  16 GB - Includes Special Offers  Magenta   \n",
       "1   6 High-Resolution Display (300 ppi)  Wi-Fi - Includes Special Offers   \n",
       "2                                                                          \n",
       "3                                                        Kindle Keyboard   \n",
       "4                                                                          \n",
       "\n",
       "                                                                                                                  Product Name Orig  \\\n",
       "0                                           All-New Fire HD 8 Tablet  8 HD Display  Wi-Fi  16 GB - Includes Special Offers  Magenta   \n",
       "1  Kindle Oasis E-reader with Leather Charging Cover - Merlot  6 High-Resolution Display (300 ppi)  Wi-Fi - Includes Special Offers   \n",
       "2                                                                                              Amazon Kindle Lighted Leather Cover    \n",
       "3                                                                               Amazon Kindle Lighted Leather Cover Kindle Keyboard   \n",
       "4                                                                                                                  Kindle Keyboard    \n",
       "\n",
       "                                      Product Name_sw_rm  \n",
       "0                               all-new fire hd 8 tablet  \n",
       "1  kindle oasis e-reader leather charging cover - merlot  \n",
       "2                    amazon kindle lighted leather cover  \n",
       "3                    amazon kindle lighted leather cover  \n",
       "4                                        kindle keyboard  "
      ]
     },
     "execution_count": 67,
     "metadata": {},
     "output_type": "execute_result"
    }
   ],
   "source": [
    "df_product_name_unique.head(5)"
   ]
  },
  {
   "cell_type": "code",
   "execution_count": 25,
   "id": "74d9c7dd",
   "metadata": {},
   "outputs": [
    {
     "data": {
      "text/plain": [
       "(761, 3)"
      ]
     },
     "execution_count": 25,
     "metadata": {},
     "output_type": "execute_result"
    }
   ],
   "source": [
    "import re\n",
    "df_product_name_unique[df_product_name_unique['Product Name'].str.contains('kindle', flags=re.IGNORECASE)].shape"
   ]
  },
  {
   "cell_type": "code",
   "execution_count": 32,
   "id": "f03be77a",
   "metadata": {
    "scrolled": false
   },
   "outputs": [],
   "source": [
    "from sentence_transformers import SentenceTransformer\n",
    "import faiss\n",
    "from faiss import write_index, read_index\n",
    "import os\n",
    "\n",
    "def getIndexForSearch():\n",
    "    if(os.path.isfile(\"large.index\") == False):\n",
    "        encoder = SentenceTransformer(\"paraphrase-mpnet-base-v2\")\n",
    "        text = df_product_name_unique['Product Name'].values\n",
    "        vectors = encoder.encode(text)\n",
    "        vector_dimension = vectors.shape[1]\n",
    "        index = faiss.IndexFlatL2(vector_dimension)\n",
    "        faiss.normalize_L2(vectors)\n",
    "        index.add(vectors)\n",
    "        write_index(index, \"large.index\")\n",
    "        return index\n",
    "    else:\n",
    "        return read_index(\"large.index\")\n",
    "    "
   ]
  },
  {
   "cell_type": "code",
   "execution_count": 34,
   "id": "c087ba4b",
   "metadata": {},
   "outputs": [],
   "source": [
    "def getTopResults (search_text_passed,index_for_search):\n",
    "    search_vector = encoder.encode(search_text_passed.lower())\n",
    "    _vector = np.array([search_vector])\n",
    "    faiss.normalize_L2(_vector)\n",
    "    distances, ann = index_for_search.search(_vector, k=10)\n",
    "    results = pd.DataFrame({'distances': distances[0], 'ann': ann[0]})\n",
    "    print(df_product_name_unique['Product Name Orig'].iloc[results.ann.tolist()].values)"
   ]
  },
  {
   "cell_type": "code",
   "execution_count": 82,
   "id": "5c18d17c",
   "metadata": {},
   "outputs": [],
   "source": [
    "def combined_search (search_text):\n",
    "    if (len(search_text) > 10):\n",
    "        getTopResults(search_text,index_for_search)\n",
    "    else:\n",
    "        print(process.extract(search_text, df_product_name_unique[\"Product Name Orig\"], limit = 5))"
   ]
  },
  {
   "cell_type": "code",
   "execution_count": 84,
   "id": "d0f61766",
   "metadata": {},
   "outputs": [
    {
     "name": "stdout",
     "output_type": "stream",
     "text": [
      "[('Amazon Echo and Fire TV Power Adapter ', 90, 27), ('Amazon Fire Tv ', 90, 42), ('Fire TV Stick Streaming Media Player Pair Kit ', 90, 75), ('Amazon Fire TV Gaming Edition Streaming Media Player ', 90, 119), ('Amazon Kindle Fire Hd (3rd Generation) 8gb ', 86, 9)]\n"
     ]
    }
   ],
   "source": [
    "combined_search(\"Fire TV\")"
   ]
  },
  {
   "cell_type": "code",
   "execution_count": 83,
   "id": "e58d9b8b",
   "metadata": {},
   "outputs": [
    {
     "name": "stdout",
     "output_type": "stream",
     "text": [
      "['TREORSI Blank Satin Sash  Plain Sash  Party Decorations  Make Your Own Sash  2 Pack (White)'\n",
      " '20Pcs Tissue Paper Pom Poms Pink Flowers Paper Honeycomb Balls Paper Lanterns Hanging Paper Fans for Wedding  Birthday  Baby Shower  Nursery  Bridal Shower Decor'\n",
      " 'URATOT 72 Pieces Spa Party Supplies Multiple Spa Party Favors for Girls 12 Tote Bags  24 Toe Separators 12 Emery Boards 12 Body Jewels and 12 Colored Hair Clip Braids'\n",
      " 'senover Mr and Mrs Sign Wedding Sweetheart Table Decorations Mr and Mrs Letters Decorative Letters for Wedding Photo Props Party Banner Decoration，Wedding Shower Gift (Gold Glitter)'\n",
      " '24 Make A Dinosaur Stickers For Kids - Great Dino Theme Birthday Party Favors - Fun Craft Project For Children 3+ - Let Your Kids Get Creative & Design Their Favorite Dinosaur Sticker '\n",
      " 'Graceful Movements Mermaid Watercolor Art Print Legend of The Sea Set of 4(8\" x10\") Unframed Canvas Print  Great Gift for Girls Bedroom Bathroom Home Decor'\n",
      " 'FirstKitchen 3.2M/10.5Feet Lace Bunting Vintage Flag Banner Pennant Garland Fabric Triangle Flags Lovely Cloth Shabby Chic Decoration for Birthday Retro Wedding Parties (Lace+Liner) '\n",
      " '7pcs Vehicle Foil Balloons Helium Mylar Party Balloons Including Truck Police Car Tank Train  School Bus  Ambulance Fire Truck Shape'\n",
      " 'Sweet 13th Birthday Decorations Party Supplies Black Number 13 Balloons 13th Foil Mylar Balloons Latex Balloon Decoration Great 13th Birthday Gifts for Girls Women Men Photo Props'\n",
      " \"You are My Sunshine Banner Gold Glitter Sun Smile Face Sunflower Banner Baby Shower Kid's Birhday Party Wedding Decoration Supplies \"]\n"
     ]
    }
   ],
   "source": [
    "combined_search (\"A birthday gift for kids party\")"
   ]
  },
  {
   "cell_type": "code",
   "execution_count": 81,
   "id": "958b04c6",
   "metadata": {},
   "outputs": [
    {
     "name": "stdout",
     "output_type": "stream",
     "text": [
      "['WiWi Womens Comfy Pajama Set Short Sleeve Sleepwear S-4X '\n",
      " 'Legends Never Die American Pharaoh 2015 Triple Crown Winner Framed Photo Collage  11\" X 14\"'\n",
      " 'Nivea Shimmer Radiant Lip Care 0.17 Oz (Pack of 2) '\n",
      " 'SONGMICS 5x Magnifying Wall Mount Makeup Mirror 8 Inch Two-Sided Swivel Extendable Bathroom Mirror Chrome UBBM513 '\n",
      " 'THREE PACKS of Astral Cream x 200ml by Astral '\n",
      " 'Organic Baby Conditioner with Aloe  Coconut Oil  Citrus Essential Oils – Safe  Gentle  Nourishing – Eczema Friendly – Paraben  Dye  Gluten  and Sulfate Free – 8 oz'\n",
      " 'Avanti Linens Banana Palm Hand Towel  Linen'\n",
      " 'Nicknocks Wooden Bamboo Dustproof Yarn Bowl Holder with Lid Crochet Wool Storage Tool '\n",
      " 'VCNY Home Melanie Ruffle Shower Curtain  72x72  White'\n",
      " 'DECOWALL DA-1406B Animal Hot Air Balloons Kids Wall Decals Wall Stickers Peel and Stick Removable Wall Stickers for Kids Nursery Bedroom Living Room ']\n"
     ]
    }
   ],
   "source": [
    "combined_search(\"dire tablet\")"
   ]
  }
 ],
 "metadata": {
  "kernelspec": {
   "display_name": "Python 3 (ipykernel)",
   "language": "python",
   "name": "python3"
  },
  "language_info": {
   "codemirror_mode": {
    "name": "ipython",
    "version": 3
   },
   "file_extension": ".py",
   "mimetype": "text/x-python",
   "name": "python",
   "nbconvert_exporter": "python",
   "pygments_lexer": "ipython3",
   "version": "3.11.5"
  }
 },
 "nbformat": 4,
 "nbformat_minor": 5
}
