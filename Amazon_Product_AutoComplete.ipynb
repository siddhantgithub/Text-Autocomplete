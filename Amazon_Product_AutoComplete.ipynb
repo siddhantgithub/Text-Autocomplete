{
 "cells": [
  {
   "cell_type": "markdown",
   "id": "8b90b049",
   "metadata": {},
   "source": [
    "## Amazon Product Autocomplete\n",
    "\n",
    "This notebook provides a solution for providing product recommendations based on the search query from a user. The notebook implements two approachs:\n",
    "\n",
    "- Keyword based search using TheFuzz\n",
    "- Semantic search using sentence-transformers and Faiss\n",
    "\n",
    "The steps implemented in this notebook are:\n",
    "\n",
    "- Data loading and basic analysis\n",
    "- Data cleaning\n",
    "- Data preprocessing\n",
    "- Search implementation\n",
    "- Testing\n",
    "\n",
    "For testing, we have considered three strings,\n",
    "\n",
    "- \"Fire TV\" straightforward keyword based search\n",
    "- \"A birthday gift for kids party\" for semantic based search\n",
    "- \"Dire tablet\" for misspelling text search\n",
    "\n",
    "Further improvements needed:\n",
    "\n",
    "- Optimize search\n",
    "- Semantic search needs improvement. Currently, it is done only on product names (extracted from the data); ideally it should be done on all names\n",
    "- More comprehensive testing"
   ]
  },
  {
   "cell_type": "markdown",
   "id": "d9ba6c74",
   "metadata": {},
   "source": [
    "<p><span style=\"font-size:18px\"><span style=\"background-color:#f1c40f\">&nbsp;<span style=\"color:#ffffff\"><strong>Data Loading and Basic Analysis</strong></span>&nbsp;</span></span></p>\n",
    "\n",
    "Steps Taken:\n",
    "\n",
    "- Load the datasource\n",
    "- Check size\n",
    "- Look at top entries\n",
    "- Check if any null values"
   ]
  },
  {
   "cell_type": "code",
   "execution_count": 1,
   "id": "51637940",
   "metadata": {
    "scrolled": false
   },
   "outputs": [],
   "source": [
    "import pandas as pd\n",
    "import numpy as np"
   ]
  },
  {
   "cell_type": "code",
   "execution_count": 2,
   "id": "9b390af8",
   "metadata": {},
   "outputs": [],
   "source": [
    "df = pd.read_csv(\"product_names.csv\")\n",
    "df.head(5)\n",
    "pd.options.display.max_colwidth = 300"
   ]
  },
  {
   "cell_type": "code",
   "execution_count": 3,
   "id": "11b4fa6e",
   "metadata": {},
   "outputs": [
    {
     "data": {
      "text/plain": [
       "(2397876, 1)"
      ]
     },
     "execution_count": 3,
     "metadata": {},
     "output_type": "execute_result"
    }
   ],
   "source": [
    "df.shape"
   ]
  },
  {
   "cell_type": "code",
   "execution_count": 4,
   "id": "c963ef31",
   "metadata": {
    "scrolled": false
   },
   "outputs": [
    {
     "data": {
      "text/html": [
       "<div>\n",
       "<style scoped>\n",
       "    .dataframe tbody tr th:only-of-type {\n",
       "        vertical-align: middle;\n",
       "    }\n",
       "\n",
       "    .dataframe tbody tr th {\n",
       "        vertical-align: top;\n",
       "    }\n",
       "\n",
       "    .dataframe thead th {\n",
       "        text-align: right;\n",
       "    }\n",
       "</style>\n",
       "<table border=\"1\" class=\"dataframe\">\n",
       "  <thead>\n",
       "    <tr style=\"text-align: right;\">\n",
       "      <th></th>\n",
       "      <th>Product Name</th>\n",
       "    </tr>\n",
       "  </thead>\n",
       "  <tbody>\n",
       "    <tr>\n",
       "      <th>0</th>\n",
       "      <td>All-New Fire HD 8 Tablet, 8 HD Display, Wi-Fi, 16 GB - Includes Special Offers, Magenta</td>\n",
       "    </tr>\n",
       "    <tr>\n",
       "      <th>1</th>\n",
       "      <td>Kindle Oasis E-reader with Leather Charging Cover - Merlot, 6 High-Resolution Display (300 ppi), Wi-Fi - Includes Special Offers,,</td>\n",
       "    </tr>\n",
       "    <tr>\n",
       "      <th>2</th>\n",
       "      <td>Amazon Kindle Lighted Leather Cover,,,\\r\\nAmazon Kindle Lighted Leather Cover,,,</td>\n",
       "    </tr>\n",
       "    <tr>\n",
       "      <th>3</th>\n",
       "      <td>Amazon Kindle Lighted Leather Cover,,,\\r\\nKindle Keyboard,,,</td>\n",
       "    </tr>\n",
       "    <tr>\n",
       "      <th>4</th>\n",
       "      <td>Kindle Keyboard,,,\\r\\nKindle Keyboard,,,</td>\n",
       "    </tr>\n",
       "    <tr>\n",
       "      <th>...</th>\n",
       "      <td>...</td>\n",
       "    </tr>\n",
       "    <tr>\n",
       "      <th>2397866</th>\n",
       "      <td>Premium Cotton Towels, Stripe</td>\n",
       "    </tr>\n",
       "    <tr>\n",
       "      <th>2397867</th>\n",
       "      <td>Organic Textured Cotton Towel</td>\n",
       "    </tr>\n",
       "    <tr>\n",
       "      <th>2397868</th>\n",
       "      <td>Premium Cotton Towels</td>\n",
       "    </tr>\n",
       "    <tr>\n",
       "      <th>2397869</th>\n",
       "      <td>L.L.Bean Egyptian Cotton Towels, Stripe</td>\n",
       "    </tr>\n",
       "    <tr>\n",
       "      <th>2397870</th>\n",
       "      <td>Organic Textured Cotton Towel Set</td>\n",
       "    </tr>\n",
       "  </tbody>\n",
       "</table>\n",
       "<p>2397871 rows × 1 columns</p>\n",
       "</div>"
      ],
      "text/plain": [
       "                                                                                                                               Product Name\n",
       "0                                                   All-New Fire HD 8 Tablet, 8 HD Display, Wi-Fi, 16 GB - Includes Special Offers, Magenta\n",
       "1        Kindle Oasis E-reader with Leather Charging Cover - Merlot, 6 High-Resolution Display (300 ppi), Wi-Fi - Includes Special Offers,,\n",
       "2                                                          Amazon Kindle Lighted Leather Cover,,,\\r\\nAmazon Kindle Lighted Leather Cover,,,\n",
       "3                                                                              Amazon Kindle Lighted Leather Cover,,,\\r\\nKindle Keyboard,,,\n",
       "4                                                                                                  Kindle Keyboard,,,\\r\\nKindle Keyboard,,,\n",
       "...                                                                                                                                     ...\n",
       "2397866                                                                                                       Premium Cotton Towels, Stripe\n",
       "2397867                                                                                                       Organic Textured Cotton Towel\n",
       "2397868                                                                                                               Premium Cotton Towels\n",
       "2397869                                                                                             L.L.Bean Egyptian Cotton Towels, Stripe\n",
       "2397870                                                                                                   Organic Textured Cotton Towel Set\n",
       "\n",
       "[2397871 rows x 1 columns]"
      ]
     },
     "execution_count": 4,
     "metadata": {},
     "output_type": "execute_result"
    }
   ],
   "source": [
    "df.head(-5)"
   ]
  },
  {
   "cell_type": "code",
   "execution_count": 5,
   "id": "18dc6770",
   "metadata": {},
   "outputs": [
    {
     "data": {
      "text/plain": [
       "0"
      ]
     },
     "execution_count": 5,
     "metadata": {},
     "output_type": "execute_result"
    }
   ],
   "source": [
    "df['Product Name'].isna().sum()"
   ]
  },
  {
   "cell_type": "markdown",
   "id": "018d4f02",
   "metadata": {},
   "source": [
    "<p><span style=\"font-size:18px\"><span style=\"background-color:#f1c40f\">&nbsp;<span style=\"color:#ffffff\"><strong>Data Cleaning</strong></span>&nbsp;</span></span></p>\n",
    "\n",
    "Steps Taken:\n",
    "\n",
    "- Remove \\r\\n\n",
    "- Split by ',' as the data suggest entries are separated by comma values\n",
    "- Remove values after split that are blank\n",
    "- Check if any null values"
   ]
  },
  {
   "cell_type": "code",
   "execution_count": 6,
   "id": "6dfc0694",
   "metadata": {},
   "outputs": [],
   "source": [
    "df_cleaned = df['Product Name'].str.replace(\"\\r\\n\", \"\").str.split(\",\")"
   ]
  },
  {
   "cell_type": "code",
   "execution_count": 7,
   "id": "72c777b0",
   "metadata": {},
   "outputs": [],
   "source": [
    "df_empty_removed = df_cleaned.apply(lambda row: list(filter (None, row)))"
   ]
  },
  {
   "cell_type": "code",
   "execution_count": 8,
   "id": "4c7f91bc",
   "metadata": {
    "scrolled": true
   },
   "outputs": [
    {
     "data": {
      "text/plain": [
       "0                                           [All-New Fire HD 8 Tablet,  8 HD Display,  Wi-Fi,  16 GB - Includes Special Offers,  Magenta]\n",
       "1    [Kindle Oasis E-reader with Leather Charging Cover - Merlot,  6 High-Resolution Display (300 ppi),  Wi-Fi - Includes Special Offers]\n",
       "2                                                              [Amazon Kindle Lighted Leather Cover, Amazon Kindle Lighted Leather Cover]\n",
       "3                                                                                  [Amazon Kindle Lighted Leather Cover, Kindle Keyboard]\n",
       "4                                                                                                      [Kindle Keyboard, Kindle Keyboard]\n",
       "Name: Product Name, dtype: object"
      ]
     },
     "execution_count": 8,
     "metadata": {},
     "output_type": "execute_result"
    }
   ],
   "source": [
    "df_empty_removed.head(5)"
   ]
  },
  {
   "cell_type": "code",
   "execution_count": 9,
   "id": "4ec17680",
   "metadata": {},
   "outputs": [],
   "source": [
    "all_product_names = df_empty_removed.apply(lambda x: x[0])"
   ]
  },
  {
   "cell_type": "markdown",
   "id": "f52b27fa",
   "metadata": {},
   "source": [
    "<p><span style=\"font-size:18px\"><span style=\"background-color:#f1c40f\">&nbsp;<span style=\"color:#ffffff\"><strong>Data Preprocessing</strong></span>&nbsp;</span></span></p>\n",
    "\n",
    "Steps Taken:\n",
    "\n",
    "- Get product name from the first value in the in the split list. We are getting product name for faster searches\n",
    "- Get description from the rest of the values in the list\n",
    "- Convert product name to lower case to enable case insensitive matches\n",
    "- We are also creating a new column Product Name orig, which has product names with stop words removed"
   ]
  },
  {
   "cell_type": "code",
   "execution_count": 10,
   "id": "5b7fbd6e",
   "metadata": {},
   "outputs": [],
   "source": [
    "all_product_description = df_empty_removed.apply(lambda x: x[1:])"
   ]
  },
  {
   "cell_type": "code",
   "execution_count": 11,
   "id": "5bbf86f3",
   "metadata": {},
   "outputs": [],
   "source": [
    "df_product_name = pd.DataFrame({'Product Name':all_product_names, 'Description':all_product_description})"
   ]
  },
  {
   "cell_type": "code",
   "execution_count": 12,
   "id": "16ea58fe",
   "metadata": {},
   "outputs": [],
   "source": [
    "df_product_name['Description'] = df_product_name['Description'].apply(lambda row: ' '.join(row))"
   ]
  },
  {
   "cell_type": "code",
   "execution_count": 13,
   "id": "cbe910b2",
   "metadata": {},
   "outputs": [],
   "source": [
    "df_product_name.loc[df_product_name ['Product Name'] == df_product_name ['Description'], \"Description\"] = \"\""
   ]
  },
  {
   "cell_type": "code",
   "execution_count": 14,
   "id": "1cff43ee",
   "metadata": {
    "scrolled": true
   },
   "outputs": [
    {
     "data": {
      "text/html": [
       "<div>\n",
       "<style scoped>\n",
       "    .dataframe tbody tr th:only-of-type {\n",
       "        vertical-align: middle;\n",
       "    }\n",
       "\n",
       "    .dataframe tbody tr th {\n",
       "        vertical-align: top;\n",
       "    }\n",
       "\n",
       "    .dataframe thead th {\n",
       "        text-align: right;\n",
       "    }\n",
       "</style>\n",
       "<table border=\"1\" class=\"dataframe\">\n",
       "  <thead>\n",
       "    <tr style=\"text-align: right;\">\n",
       "      <th></th>\n",
       "      <th>Product Name</th>\n",
       "      <th>Description</th>\n",
       "    </tr>\n",
       "  </thead>\n",
       "  <tbody>\n",
       "    <tr>\n",
       "      <th>0</th>\n",
       "      <td>All-New Fire HD 8 Tablet</td>\n",
       "      <td>8 HD Display  Wi-Fi  16 GB - Includes Special Offers  Magenta</td>\n",
       "    </tr>\n",
       "    <tr>\n",
       "      <th>1</th>\n",
       "      <td>Kindle Oasis E-reader with Leather Charging Cover - Merlot</td>\n",
       "      <td>6 High-Resolution Display (300 ppi)  Wi-Fi - Includes Special Offers</td>\n",
       "    </tr>\n",
       "    <tr>\n",
       "      <th>2</th>\n",
       "      <td>Amazon Kindle Lighted Leather Cover</td>\n",
       "      <td></td>\n",
       "    </tr>\n",
       "    <tr>\n",
       "      <th>3</th>\n",
       "      <td>Amazon Kindle Lighted Leather Cover</td>\n",
       "      <td>Kindle Keyboard</td>\n",
       "    </tr>\n",
       "    <tr>\n",
       "      <th>4</th>\n",
       "      <td>Kindle Keyboard</td>\n",
       "      <td></td>\n",
       "    </tr>\n",
       "  </tbody>\n",
       "</table>\n",
       "</div>"
      ],
      "text/plain": [
       "                                                 Product Name  \\\n",
       "0                                    All-New Fire HD 8 Tablet   \n",
       "1  Kindle Oasis E-reader with Leather Charging Cover - Merlot   \n",
       "2                         Amazon Kindle Lighted Leather Cover   \n",
       "3                         Amazon Kindle Lighted Leather Cover   \n",
       "4                                             Kindle Keyboard   \n",
       "\n",
       "                                                             Description  \n",
       "0          8 HD Display  Wi-Fi  16 GB - Includes Special Offers  Magenta  \n",
       "1   6 High-Resolution Display (300 ppi)  Wi-Fi - Includes Special Offers  \n",
       "2                                                                         \n",
       "3                                                        Kindle Keyboard  \n",
       "4                                                                         "
      ]
     },
     "execution_count": 14,
     "metadata": {},
     "output_type": "execute_result"
    }
   ],
   "source": [
    "df_product_name.head(5)"
   ]
  },
  {
   "cell_type": "code",
   "execution_count": 15,
   "id": "939cb750",
   "metadata": {},
   "outputs": [],
   "source": [
    "df_product_name_unique = df_product_name.drop_duplicates()"
   ]
  },
  {
   "cell_type": "code",
   "execution_count": 16,
   "id": "16b59bf1",
   "metadata": {
    "scrolled": true
   },
   "outputs": [
    {
     "name": "stderr",
     "output_type": "stream",
     "text": [
      "C:\\Users\\dikshashukla\\AppData\\Local\\Temp\\ipykernel_42000\\1213310168.py:1: SettingWithCopyWarning: \n",
      "A value is trying to be set on a copy of a slice from a DataFrame.\n",
      "Try using .loc[row_indexer,col_indexer] = value instead\n",
      "\n",
      "See the caveats in the documentation: https://pandas.pydata.org/pandas-docs/stable/user_guide/indexing.html#returning-a-view-versus-a-copy\n",
      "  df_product_name_unique.loc[:,'Product Name Orig'] = df_product_name_unique['Product Name'] + \" \" + df_product_name_unique['Description']\n"
     ]
    }
   ],
   "source": [
    "df_product_name_unique.loc[:,'Product Name Orig'] = df_product_name_unique['Product Name'] + \" \" + df_product_name_unique['Description']"
   ]
  },
  {
   "cell_type": "code",
   "execution_count": 17,
   "id": "2f64c732",
   "metadata": {
    "scrolled": false
   },
   "outputs": [],
   "source": [
    "df_product_name_unique.loc[:,'Product Name'] = df_product_name_unique['Product Name'].str.lower()"
   ]
  },
  {
   "cell_type": "code",
   "execution_count": 18,
   "id": "f8c35477",
   "metadata": {
    "scrolled": true
   },
   "outputs": [
    {
     "data": {
      "text/html": [
       "<div>\n",
       "<style scoped>\n",
       "    .dataframe tbody tr th:only-of-type {\n",
       "        vertical-align: middle;\n",
       "    }\n",
       "\n",
       "    .dataframe tbody tr th {\n",
       "        vertical-align: top;\n",
       "    }\n",
       "\n",
       "    .dataframe thead th {\n",
       "        text-align: right;\n",
       "    }\n",
       "</style>\n",
       "<table border=\"1\" class=\"dataframe\">\n",
       "  <thead>\n",
       "    <tr style=\"text-align: right;\">\n",
       "      <th></th>\n",
       "      <th>Product Name</th>\n",
       "      <th>Description</th>\n",
       "      <th>Product Name Orig</th>\n",
       "    </tr>\n",
       "  </thead>\n",
       "  <tbody>\n",
       "    <tr>\n",
       "      <th>0</th>\n",
       "      <td>all-new fire hd 8 tablet</td>\n",
       "      <td>8 HD Display  Wi-Fi  16 GB - Includes Special Offers  Magenta</td>\n",
       "      <td>All-New Fire HD 8 Tablet  8 HD Display  Wi-Fi  16 GB - Includes Special Offers  Magenta</td>\n",
       "    </tr>\n",
       "    <tr>\n",
       "      <th>1</th>\n",
       "      <td>kindle oasis e-reader with leather charging cover - merlot</td>\n",
       "      <td>6 High-Resolution Display (300 ppi)  Wi-Fi - Includes Special Offers</td>\n",
       "      <td>Kindle Oasis E-reader with Leather Charging Cover - Merlot  6 High-Resolution Display (300 ppi)  Wi-Fi - Includes Special Offers</td>\n",
       "    </tr>\n",
       "    <tr>\n",
       "      <th>2</th>\n",
       "      <td>amazon kindle lighted leather cover</td>\n",
       "      <td></td>\n",
       "      <td>Amazon Kindle Lighted Leather Cover</td>\n",
       "    </tr>\n",
       "    <tr>\n",
       "      <th>3</th>\n",
       "      <td>amazon kindle lighted leather cover</td>\n",
       "      <td>Kindle Keyboard</td>\n",
       "      <td>Amazon Kindle Lighted Leather Cover Kindle Keyboard</td>\n",
       "    </tr>\n",
       "    <tr>\n",
       "      <th>4</th>\n",
       "      <td>kindle keyboard</td>\n",
       "      <td></td>\n",
       "      <td>Kindle Keyboard</td>\n",
       "    </tr>\n",
       "  </tbody>\n",
       "</table>\n",
       "</div>"
      ],
      "text/plain": [
       "                                                 Product Name  \\\n",
       "0                                    all-new fire hd 8 tablet   \n",
       "1  kindle oasis e-reader with leather charging cover - merlot   \n",
       "2                         amazon kindle lighted leather cover   \n",
       "3                         amazon kindle lighted leather cover   \n",
       "4                                             kindle keyboard   \n",
       "\n",
       "                                                             Description  \\\n",
       "0          8 HD Display  Wi-Fi  16 GB - Includes Special Offers  Magenta   \n",
       "1   6 High-Resolution Display (300 ppi)  Wi-Fi - Includes Special Offers   \n",
       "2                                                                          \n",
       "3                                                        Kindle Keyboard   \n",
       "4                                                                          \n",
       "\n",
       "                                                                                                                  Product Name Orig  \n",
       "0                                           All-New Fire HD 8 Tablet  8 HD Display  Wi-Fi  16 GB - Includes Special Offers  Magenta  \n",
       "1  Kindle Oasis E-reader with Leather Charging Cover - Merlot  6 High-Resolution Display (300 ppi)  Wi-Fi - Includes Special Offers  \n",
       "2                                                                                              Amazon Kindle Lighted Leather Cover   \n",
       "3                                                                               Amazon Kindle Lighted Leather Cover Kindle Keyboard  \n",
       "4                                                                                                                  Kindle Keyboard   "
      ]
     },
     "execution_count": 18,
     "metadata": {},
     "output_type": "execute_result"
    }
   ],
   "source": [
    "df_product_name_unique.head(5)"
   ]
  },
  {
   "cell_type": "code",
   "execution_count": 19,
   "id": "2aa9dc70",
   "metadata": {
    "scrolled": false
   },
   "outputs": [
    {
     "name": "stderr",
     "output_type": "stream",
     "text": [
      "[nltk_data] Downloading package punkt to\n",
      "[nltk_data]     C:\\Users\\dikshashukla\\AppData\\Roaming\\nltk_data...\n",
      "[nltk_data]   Package punkt is already up-to-date!\n",
      "[nltk_data] Downloading package stopwords to\n",
      "[nltk_data]     C:\\Users\\dikshashukla\\AppData\\Roaming\\nltk_data...\n",
      "[nltk_data]   Package stopwords is already up-to-date!\n"
     ]
    }
   ],
   "source": [
    "# Function for removing stop words\n",
    "import nltk\n",
    "nltk.download('punkt')\n",
    "import nltk\n",
    "from nltk.corpus import stopwords\n",
    "nltk.download('stopwords')\n",
    "from sklearn.feature_extraction.text import CountVectorizer\n",
    "from nltk.corpus import stopwords\n",
    "from nltk.tokenize import word_tokenize\n",
    "def remove_stop_words (line):\n",
    "    tokens = word_tokenize(line)\n",
    "    new_filtered_tokens = [word for word in tokens if word not in stopwords.words('english')]\n",
    "    return \" \".join(new_filtered_tokens)"
   ]
  },
  {
   "cell_type": "code",
   "execution_count": 20,
   "id": "7a8993d9",
   "metadata": {},
   "outputs": [],
   "source": [
    "#Creating a new column with product names and stop words removed\n",
    "import time\n",
    "import swifter\n",
    "import os\n",
    "\n",
    "if(os.path.isfile(\"product_details_processed.csv\") == False):\n",
    "    start_time = time.time()\n",
    "    df_product_name_unique.loc[:,'Product Name_sw_rm'] = df_product_name_unique['Product Name'].swifter.apply(lambda x: \" \".join([k for k in x.split(\" \") if k not in stopwords.words('english') ]))\n",
    "    print(\"--- %s seconds ---\" % (time.time() - start_time))\n",
    "    #We are saving the df_product_name_unique for easy retrieval later\n",
    "    df_product_name_unique.to_csv('product_details_processed.csv', index=False)\n",
    "else:\n",
    "    df_product_name_unique = pd.read_csv(\"product_details_processed.csv\")"
   ]
  },
  {
   "cell_type": "code",
   "execution_count": 21,
   "id": "de5b6f66",
   "metadata": {
    "scrolled": false
   },
   "outputs": [
    {
     "data": {
      "text/html": [
       "<div>\n",
       "<style scoped>\n",
       "    .dataframe tbody tr th:only-of-type {\n",
       "        vertical-align: middle;\n",
       "    }\n",
       "\n",
       "    .dataframe tbody tr th {\n",
       "        vertical-align: top;\n",
       "    }\n",
       "\n",
       "    .dataframe thead th {\n",
       "        text-align: right;\n",
       "    }\n",
       "</style>\n",
       "<table border=\"1\" class=\"dataframe\">\n",
       "  <thead>\n",
       "    <tr style=\"text-align: right;\">\n",
       "      <th></th>\n",
       "      <th>Product Name</th>\n",
       "      <th>Description</th>\n",
       "      <th>Product Name Orig</th>\n",
       "      <th>Product Name_sw_rm</th>\n",
       "    </tr>\n",
       "  </thead>\n",
       "  <tbody>\n",
       "    <tr>\n",
       "      <th>0</th>\n",
       "      <td>all-new fire hd 8 tablet</td>\n",
       "      <td>8 HD Display  Wi-Fi  16 GB - Includes Special Offers  Magenta</td>\n",
       "      <td>All-New Fire HD 8 Tablet  8 HD Display  Wi-Fi  16 GB - Includes Special Offers  Magenta</td>\n",
       "      <td>all-new fire hd 8 tablet</td>\n",
       "    </tr>\n",
       "    <tr>\n",
       "      <th>1</th>\n",
       "      <td>kindle oasis e-reader with leather charging cover - merlot</td>\n",
       "      <td>6 High-Resolution Display (300 ppi)  Wi-Fi - Includes Special Offers</td>\n",
       "      <td>Kindle Oasis E-reader with Leather Charging Cover - Merlot  6 High-Resolution Display (300 ppi)  Wi-Fi - Includes Special Offers</td>\n",
       "      <td>kindle oasis e-reader leather charging cover - merlot</td>\n",
       "    </tr>\n",
       "    <tr>\n",
       "      <th>2</th>\n",
       "      <td>amazon kindle lighted leather cover</td>\n",
       "      <td>NaN</td>\n",
       "      <td>Amazon Kindle Lighted Leather Cover</td>\n",
       "      <td>amazon kindle lighted leather cover</td>\n",
       "    </tr>\n",
       "    <tr>\n",
       "      <th>3</th>\n",
       "      <td>amazon kindle lighted leather cover</td>\n",
       "      <td>Kindle Keyboard</td>\n",
       "      <td>Amazon Kindle Lighted Leather Cover Kindle Keyboard</td>\n",
       "      <td>amazon kindle lighted leather cover</td>\n",
       "    </tr>\n",
       "    <tr>\n",
       "      <th>4</th>\n",
       "      <td>kindle keyboard</td>\n",
       "      <td>NaN</td>\n",
       "      <td>Kindle Keyboard</td>\n",
       "      <td>kindle keyboard</td>\n",
       "    </tr>\n",
       "  </tbody>\n",
       "</table>\n",
       "</div>"
      ],
      "text/plain": [
       "                                                 Product Name  \\\n",
       "0                                    all-new fire hd 8 tablet   \n",
       "1  kindle oasis e-reader with leather charging cover - merlot   \n",
       "2                         amazon kindle lighted leather cover   \n",
       "3                         amazon kindle lighted leather cover   \n",
       "4                                             kindle keyboard   \n",
       "\n",
       "                                                             Description  \\\n",
       "0          8 HD Display  Wi-Fi  16 GB - Includes Special Offers  Magenta   \n",
       "1   6 High-Resolution Display (300 ppi)  Wi-Fi - Includes Special Offers   \n",
       "2                                                                    NaN   \n",
       "3                                                        Kindle Keyboard   \n",
       "4                                                                    NaN   \n",
       "\n",
       "                                                                                                                  Product Name Orig  \\\n",
       "0                                           All-New Fire HD 8 Tablet  8 HD Display  Wi-Fi  16 GB - Includes Special Offers  Magenta   \n",
       "1  Kindle Oasis E-reader with Leather Charging Cover - Merlot  6 High-Resolution Display (300 ppi)  Wi-Fi - Includes Special Offers   \n",
       "2                                                                                              Amazon Kindle Lighted Leather Cover    \n",
       "3                                                                               Amazon Kindle Lighted Leather Cover Kindle Keyboard   \n",
       "4                                                                                                                  Kindle Keyboard    \n",
       "\n",
       "                                      Product Name_sw_rm  \n",
       "0                               all-new fire hd 8 tablet  \n",
       "1  kindle oasis e-reader leather charging cover - merlot  \n",
       "2                    amazon kindle lighted leather cover  \n",
       "3                    amazon kindle lighted leather cover  \n",
       "4                                        kindle keyboard  "
      ]
     },
     "execution_count": 21,
     "metadata": {},
     "output_type": "execute_result"
    }
   ],
   "source": [
    "df_product_name_unique.head(5)"
   ]
  },
  {
   "cell_type": "markdown",
   "id": "f28a4f73",
   "metadata": {},
   "source": [
    "<p><span style=\"font-size:18px\"><span style=\"background-color:#f1c40f\">&nbsp;<span style=\"color:#ffffff\"><strong>Search Implementation</strong></span>&nbsp;</span></span></p\n",
    "\n",
    "Steps Taken:\n",
    "\n",
    "- Implement 'getIndexForSearch'. This function create vector dataset for semantic search\n",
    "- Implement 'getTopResults' function which performs semantic search for a keyword\n",
    "- Implement a wrapper function which performs semantic search or keyword search. The function performs semantic search if the search keywords has a length of greater than 20 and performs keyword search using TheFuzz other wise"
   ]
  },
  {
   "cell_type": "code",
   "execution_count": 22,
   "id": "f03be77a",
   "metadata": {
    "scrolled": false
   },
   "outputs": [],
   "source": [
    "from sentence_transformers import SentenceTransformer\n",
    "import faiss\n",
    "from faiss import write_index, read_index\n",
    "import os\n",
    "\n",
    "def getIndexForSearch():\n",
    "    if(os.path.isfile(\"large.index\") == False):\n",
    "        encoder = SentenceTransformer(\"paraphrase-mpnet-base-v2\")\n",
    "        text = df_product_name_unique['Product Name'].values\n",
    "        vectors = encoder.encode(text)\n",
    "        vector_dimension = vectors.shape[1]\n",
    "        index = faiss.IndexFlatL2(vector_dimension)\n",
    "        faiss.normalize_L2(vectors)\n",
    "        index.add(vectors)\n",
    "        write_index(index, \"large.index\")\n",
    "        return index\n",
    "    else:\n",
    "        return read_index(\"large.index\")\n",
    "    "
   ]
  },
  {
   "cell_type": "code",
   "execution_count": 23,
   "id": "c087ba4b",
   "metadata": {},
   "outputs": [
    {
     "name": "stdout",
     "output_type": "stream",
     "text": [
      "\n",
      "===================================BUG REPORT===================================\n",
      "Welcome to bitsandbytes. For bug reports, please submit your error trace to: https://github.com/TimDettmers/bitsandbytes/issues\n",
      "================================================================================\n",
      "binary_path: C:\\Users\\dikshashukla\\AppData\\Local\\anaconda3\\Lib\\site-packages\\bitsandbytes\\cuda_setup\\libbitsandbytes_cuda116.dll\n",
      "CUDA SETUP: Loading binary C:\\Users\\dikshashukla\\AppData\\Local\\anaconda3\\Lib\\site-packages\\bitsandbytes\\cuda_setup\\libbitsandbytes_cuda116.dll...\n"
     ]
    },
    {
     "name": "stderr",
     "output_type": "stream",
     "text": [
      "C:\\Users\\dikshashukla\\AppData\\Local\\anaconda3\\Lib\\site-packages\\torch\\_utils.py:831: UserWarning: TypedStorage is deprecated. It will be removed in the future and UntypedStorage will be the only storage class. This should only matter to you if you are using storages directly.  To access UntypedStorage directly, use tensor.untyped_storage() instead of tensor.storage()\n",
      "  return self.fget.__get__(instance, owner)()\n"
     ]
    }
   ],
   "source": [
    "encoder = SentenceTransformer(\"paraphrase-mpnet-base-v2\")\n",
    "def getTopResults (search_text_passed,index_for_search):\n",
    "    search_vector = encoder.encode(search_text_passed.lower())\n",
    "    _vector = np.array([search_vector])\n",
    "    faiss.normalize_L2(_vector)\n",
    "    distances, ann = index_for_search.search(_vector, k=10)\n",
    "    results = pd.DataFrame({'distances': distances[0], 'ann': ann[0]})\n",
    "    print(df_product_name_unique['Product Name Orig'].iloc[results.ann.tolist()].values)"
   ]
  },
  {
   "cell_type": "code",
   "execution_count": 28,
   "id": "881462cd",
   "metadata": {},
   "outputs": [],
   "source": [
    "from thefuzz import process\n",
    "index_for_search = getIndexForSearch()\n",
    "def combined_search (search_text):\n",
    "    if (len(search_text) > 20):\n",
    "        getTopResults(search_text,index_for_search)\n",
    "    else:\n",
    "        print(process.extract(search_text, df_product_name_unique[\"Product Name Orig\"], limit = 5))"
   ]
  },
  {
   "cell_type": "markdown",
   "id": "66e57421",
   "metadata": {},
   "source": [
    "<p><span style=\"font-size:18px\"><span style=\"background-color:#f1c40f\">&nbsp;<span style=\"color:#ffffff\"><strong>We test for three cases</strong></span>&nbsp;</span></span></p\n",
    "\n",
    "- \"Fire TV\" straightforward keyword based search\n",
    "- \"A birthday gift for kids party\" for semantic based search\n",
    "- \"Dire tablet\" for misspelling text search"
   ]
  },
  {
   "cell_type": "code",
   "execution_count": 25,
   "id": "c67dd1da",
   "metadata": {},
   "outputs": [
    {
     "name": "stdout",
     "output_type": "stream",
     "text": [
      "[('Amazon Echo and Fire TV Power Adapter ', 90, 27), ('Amazon Fire Tv ', 90, 42), ('Fire TV Stick Streaming Media Player Pair Kit ', 90, 71), ('Amazon Fire TV Gaming Edition Streaming Media Player ', 90, 112), ('Amazon Kindle Fire Hd (3rd Generation) 8gb ', 86, 9)]\n"
     ]
    }
   ],
   "source": [
    "combined_search(\"Fire TV\")"
   ]
  },
  {
   "cell_type": "code",
   "execution_count": 26,
   "id": "e7e1e72a",
   "metadata": {},
   "outputs": [
    {
     "name": "stdout",
     "output_type": "stream",
     "text": [
      "['TREORSI Blank Satin Sash  Plain Sash  Party Decorations  Make Your Own Sash  2 Pack (White)'\n",
      " '20Pcs Tissue Paper Pom Poms Pink Flowers Paper Honeycomb Balls Paper Lanterns Hanging Paper Fans for Wedding  Birthday  Baby Shower  Nursery  Bridal Shower Decor'\n",
      " 'URATOT 72 Pieces Spa Party Supplies Multiple Spa Party Favors for Girls 12 Tote Bags  24 Toe Separators 12 Emery Boards 12 Body Jewels and 12 Colored Hair Clip Braids'\n",
      " 'senover Mr and Mrs Sign Wedding Sweetheart Table Decorations Mr and Mrs Letters Decorative Letters for Wedding Photo Props Party Banner Decoration，Wedding Shower Gift (Gold Glitter)'\n",
      " '24 Make A Dinosaur Stickers For Kids - Great Dino Theme Birthday Party Favors - Fun Craft Project For Children 3+ - Let Your Kids Get Creative & Design Their Favorite Dinosaur Sticker '\n",
      " 'Graceful Movements Mermaid Watercolor Art Print Legend of The Sea Set of 4(8\" x10\") Unframed Canvas Print  Great Gift for Girls Bedroom Bathroom Home Decor'\n",
      " 'FirstKitchen 3.2M/10.5Feet Lace Bunting Vintage Flag Banner Pennant Garland Fabric Triangle Flags Lovely Cloth Shabby Chic Decoration for Birthday Retro Wedding Parties (Lace+Liner) '\n",
      " '7pcs Vehicle Foil Balloons Helium Mylar Party Balloons Including Truck Police Car Tank Train  School Bus  Ambulance Fire Truck Shape'\n",
      " 'Sweet 13th Birthday Decorations Party Supplies Black Number 13 Balloons 13th Foil Mylar Balloons Latex Balloon Decoration Great 13th Birthday Gifts for Girls Women Men Photo Props'\n",
      " \"You are My Sunshine Banner Gold Glitter Sun Smile Face Sunflower Banner Baby Shower Kid's Birhday Party Wedding Decoration Supplies \"]\n"
     ]
    }
   ],
   "source": [
    "combined_search (\"A birthday gift for kids party\")"
   ]
  },
  {
   "cell_type": "code",
   "execution_count": 29,
   "id": "62cfa22d",
   "metadata": {},
   "outputs": [
    {
     "name": "stdout",
     "output_type": "stream",
     "text": [
      "[('All-New Fire HD 8 Tablet  8 HD Display  Wi-Fi  16 GB - Includes Special Offers  Magenta', 86, 0), ('All-New Fire HD 8 Tablet  8 HD Display  Wi-Fi  32 GB - Includes Special Offers  Magenta', 86, 5), ('Fire HD 8 Tablet with Alexa  8 HD Display  32 GB  Tangerine - with Special Offers', 86, 6), ('Fire Tablet  7 Display  Wi-Fi  8 GB - Includes Special Offers  Magenta', 86, 10), ('Fire HD 8 Tablet with Alexa  8 HD Display  16 GB  Tangerine - with Special Offers', 86, 14)]\n"
     ]
    }
   ],
   "source": [
    "combined_search(\"dire tablet\")"
   ]
  }
 ],
 "metadata": {
  "kernelspec": {
   "display_name": "Python 3 (ipykernel)",
   "language": "python",
   "name": "python3"
  },
  "language_info": {
   "codemirror_mode": {
    "name": "ipython",
    "version": 3
   },
   "file_extension": ".py",
   "mimetype": "text/x-python",
   "name": "python",
   "nbconvert_exporter": "python",
   "pygments_lexer": "ipython3",
   "version": "3.11.5"
  }
 },
 "nbformat": 4,
 "nbformat_minor": 5
}
